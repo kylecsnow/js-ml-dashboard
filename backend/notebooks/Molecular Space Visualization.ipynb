{
 "cells": [
  {
   "cell_type": "code",
   "execution_count": null,
   "metadata": {},
   "outputs": [],
   "source": [
    "import base64\n",
    "from io import BytesIO\n",
    "import numpy as np\n",
    "from rdkit import Chem\n",
    "from rdkit.Chem import AllChem, Draw\n",
    "import pandas as pd\n",
    "from sklearn.preprocessing import StandardScaler\n",
    "from umap import UMAP\n",
    "\n",
    "from bokeh.plotting import figure, show\n",
    "from bokeh.models import ColumnDataSource, HoverTool\n",
    "from bokeh.io import output_notebook"
   ]
  },
  {
   "cell_type": "code",
   "execution_count": null,
   "metadata": {},
   "outputs": [],
   "source": [
    "# Generate molecule images as base64 encoded strings\n",
    "def mol_to_base64(mol, size=(300, 300)):\n",
    "    \"\"\"Convert RDKit mol to base64 encoded image\"\"\"\n",
    "    img = Draw.MolToImage(mol, size=size)\n",
    "    buffer = BytesIO()\n",
    "    img.save(buffer, format=\"png\")\n",
    "    # return base64.b64encode(buffer.getvalue()).decode()\n",
    "    for_encoding = buffer.getvalue()\n",
    "    return 'data:image/png;base64,' + base64.b64encode(for_encoding).decode()"
   ]
  },
  {
   "cell_type": "code",
   "execution_count": null,
   "metadata": {},
   "outputs": [],
   "source": [
    "def create_interactive_molecular_map(smiles, featurization_method='morgan', width=800, height=600):\n",
    "    \"\"\"\n",
    "    Create an interactive 2D scatter plot of molecules in chemical space using Bokeh.\n",
    "    \n",
    "    Parameters:\n",
    "    -----------\n",
    "    smiles : list of SMILES strings\n",
    "        List of molecular structures to visualize\n",
    "    featurization_method : str, optional (default='morgan')\n",
    "        Method to convert molecules to feature vectors\n",
    "    \n",
    "    Returns:\n",
    "    --------\n",
    "    bokeh.plotting.Figure: Interactive molecular space visualization\n",
    "    \"\"\"\n",
    "\n",
    "    molecules = [Chem.MolFromSmiles(smi) for smi in smiles]\n",
    "\n",
    "    # Featurize molecules\n",
    "    if featurization_method == 'morgan':\n",
    "        # Morgan fingerprints (extended connectivity fingerprints)\n",
    "        features = [AllChem.GetMorganFingerprintAsBitVect(mol, 2, nBits=2048) \n",
    "                    for mol in molecules]\n",
    "        features = np.array([list(x.ToBitString()) for x in features], dtype=float)\n",
    "\n",
    "    elif featurization_method == 'descriptors':\n",
    "        # Molecular descriptors (alternative approach)\n",
    "        features = np.array([\n",
    "            AllChem.CalcMolDescriptors(mol) \n",
    "            for mol in molecules\n",
    "        ])\n",
    "\n",
    "    else:\n",
    "        raise ValueError(\"Invalid featurization method\")\n",
    "\n",
    "\n",
    "    # Standardize features\n",
    "    scaler = StandardScaler()\n",
    "    features_scaled = scaler.fit_transform(features)\n",
    "\n",
    "    # Dimensionality reduction using UMAP\n",
    "    reducer = UMAP(\n",
    "        n_components=2,  # 2D visualization\n",
    "        n_neighbors=15,  # Controls local vs global structure\n",
    "        min_dist=0.1,    # Controls how tightly points are packed\n",
    "        random_state=42  # For reproducibility\n",
    "    )\n",
    "    embedding = reducer.fit_transform(features_scaled)\n",
    "\n",
    "    # Prepare molecule images and SMILES\n",
    "    mol_images = [mol_to_base64(mol) for mol in molecules]\n",
    "    # smiles_list = [Chem.MolToSmiles(mol) for mol in molecules]\n",
    "\n",
    "    # Prepare data for Bokeh\n",
    "    data=dict(\n",
    "        x=embedding[:, 0],\n",
    "        y=embedding[:, 1],\n",
    "        smiles=smiles,\n",
    "        images=mol_images\n",
    "    )\n",
    "    mol_images_df = pd.DataFrame(data)\n",
    "\n",
    "    datasource = ColumnDataSource(mol_images_df)\n",
    "    # color_mapping = CategoricalColorMapper(factors=[str(9 - x) for x in digits.target_names],\n",
    "    #                                        palette=Spectral10)\n",
    "\n",
    "    # Create Bokeh figure\n",
    "    plot_figure = figure(\n",
    "        title='Interactive Molecular Structures in Chemical Space',\n",
    "        x_axis_label='UMAP Dimension 1',\n",
    "        y_axis_label='UMAP Dimension 2',\n",
    "        width=width,\n",
    "        height=height,\n",
    "        tools=\"pan, wheel_zoom, box_zoom, reset, save\"\n",
    "        # tools=\"pan, wheel_zoom, save\"\n",
    "    )\n",
    "\n",
    "    # Add hover tool to the plot\n",
    "    plot_figure.add_tools(HoverTool(\n",
    "        # renderers=[scatter],\n",
    "        # tooltips=[\n",
    "        #     (\"SMILES\", \"@smiles\"),\n",
    "        #     (\"Molecule\", \"<img src='data:image/png;base64,@image' width='300' height='300'>\")\n",
    "        # ],\n",
    "        mode='mouse',  # display info for closest point\n",
    "        tooltips=\"\"\"\n",
    "        <div>\n",
    "            <div>\n",
    "                <span style='font-size: 16px; color: #224499'>SMILES:</span>\n",
    "                <span style='font-size: 18px'>@smiles</span>\n",
    "            </div>\n",
    "            <div>\n",
    "                <img src='@images' style='float: left; margin: 5px 5px 5px 5px'/>\n",
    "            </div>\n",
    "        </div>\n",
    "        \"\"\"\n",
    "    ))\n",
    "\n",
    "    scatter = plot_figure.circle(\n",
    "        'x', 'y', \n",
    "        size=10, \n",
    "        color='navy', \n",
    "        alpha=0.5, \n",
    "        source=datasource\n",
    "    )\n",
    "\n",
    "    show(plot_figure)"
   ]
  },
  {
   "cell_type": "markdown",
   "metadata": {},
   "source": [
    "# Evaluate Starting Molecules"
   ]
  },
  {
   "cell_type": "code",
   "execution_count": null,
   "metadata": {},
   "outputs": [],
   "source": [
    "# Starting molecules: \n",
    "# smiles_df = pd.read_csv(\"./.......csv\")\n",
    "start_smiles = smiles_df[\"SMILES\"].to_list()\n",
    "print(len(start_smiles))"
   ]
  },
  {
   "cell_type": "code",
   "execution_count": null,
   "metadata": {},
   "outputs": [],
   "source": [
    "# Configure Bokeh output for Jupyter Notebook\n",
    "output_notebook()\n",
    "\n",
    "# Example molecules (SMILES strings)\n",
    "# smiles_list = [\n",
    "#     'CC(=O)OC1=CC=CC=C1C(=O)O',   # Aspirin\n",
    "#     'CC(C)(C)NCC(O)C1=CC(=C(C=C1)O)CO',  # Salbutamol\n",
    "#     'CN1C=NC2=C1C(=O)N(C(=O)N2C)C',  # Caffeine\n",
    "#     'CC12CCC3C(C1CCC2O)CCC4=C3C=CC(=C4)O',  # Estradiol\n",
    "#     'C1=CC=C(C=C1)C(=O)CCCN2CCC(CC2)OC3=CC=C(C=C3)F'  # Haloperidol\n",
    "# ]\n",
    "smiles_list = start_smiles"
   ]
  },
  {
   "cell_type": "code",
   "execution_count": null,
   "metadata": {},
   "outputs": [],
   "source": [
    "create_interactive_molecular_map(smiles_list, featurization_method=\"morgan\")"
   ]
  },
  {
   "cell_type": "markdown",
   "metadata": {},
   "source": [
    "# Evaluate Generated Molecules"
   ]
  },
  {
   "cell_type": "code",
   "execution_count": null,
   "metadata": {},
   "outputs": [],
   "source": [
    "# molgen_results_df = pd.read_csv(\"./......csv\")\n",
    "molgen_smiles = molgen_results_df[\"SMILES\"]\n",
    "\n",
    "### CHECK:\n",
    "print(len(molgen_smiles))"
   ]
  },
  {
   "cell_type": "code",
   "execution_count": null,
   "metadata": {},
   "outputs": [],
   "source": [
    "create_interactive_molecular_map(molgen_smiles)"
   ]
  }
 ],
 "metadata": {
  "kernelspec": {
   "display_name": "icl",
   "language": "python",
   "name": "python3"
  },
  "language_info": {
   "name": "python",
   "version": "3.11.10"
  }
 },
 "nbformat": 4,
 "nbformat_minor": 2
}
