{
 "cells": [
  {
   "cell_type": "markdown",
   "id": "c7fcda6f-faf1-4c93-8d08-bd9f06330539",
   "metadata": {},
   "source": [
    "# Custom code for generating response functions & datasets:"
   ]
  },
  {
   "cell_type": "markdown",
   "id": "73015997-379d-45ba-b2f0-fc7f9d7bfda7",
   "metadata": {},
   "source": [
    "1. Support N rows, D input dimensions, Y output dimensions\n",
    "2. Support setting bounds for each input & output\n",
    "3. Support setting different levels of noise on each output\n",
    "4. Support setting magnitude & direction of influence of each input on a given output\n",
    "5. Be able to feed through any \"forward-predict\" set of inputs to the \"ground truth\" function after it's been created"
   ]
  },
  {
   "cell_type": "code",
   "execution_count": 1,
   "id": "18ebe989-b467-4c7f-be77-19c73b9427fd",
   "metadata": {},
   "outputs": [],
   "source": [
    "import numpy as np\n",
    "import pandas as pd"
   ]
  },
  {
   "cell_type": "code",
   "execution_count": null,
   "id": "0bfc1f86-07c2-4890-90c2-8efef46b4c2b",
   "metadata": {},
   "outputs": [],
   "source": [
    "### D-dimensional sigmoid function with the given set of D coefficients:\n",
    "def sigmoid(input_row, coefs):\n",
    "    value = 1 / (1 + np.exp(-1 * np.matmul(input_row, coefs)))\n",
    "    return value\n",
    "\n",
    "\n",
    "def build_synthetic_dataset(inputs=5, outputs=1, num_rows=10, noise=0, coefs=None):\n",
    "    \n",
    "    if isinstance(inputs, int):\n",
    "        num_inputs = inputs\n",
    "    else:\n",
    "        num_inputs = len(inputs)\n",
    "\n",
    "    if isinstance(outputs, int):\n",
    "        num_outputs = outputs\n",
    "    else:\n",
    "        num_outputs = len(outputs)"
   ]
  }
 ],
 "metadata": {
  "kernelspec": {
   "display_name": "Python 3 (ipykernel)",
   "language": "python",
   "name": "python3"
  },
  "language_info": {
   "codemirror_mode": {
    "name": "ipython",
    "version": 3
   },
   "file_extension": ".py",
   "mimetype": "text/x-python",
   "name": "python",
   "nbconvert_exporter": "python",
   "pygments_lexer": "ipython3",
   "version": "3.11.9"
  }
 },
 "nbformat": 4,
 "nbformat_minor": 5
}
